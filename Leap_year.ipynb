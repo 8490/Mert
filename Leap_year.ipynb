{
 "cells": [
  {
   "cell_type": "code",
   "execution_count": 9,
   "metadata": {},
   "outputs": [
    {
     "name": "stdout",
     "output_type": "stream",
     "text": [
      "Artık Yıl Hesaplama Modülü\n",
      "Lütfen 4 haneli bir yıl giriniz.  2100\n",
      "False\n"
     ]
    }
   ],
   "source": [
    "print(\"Artık Yıl Hesaplama Modülü\")\n",
    "\n",
    "year = input(\"Lütfen 4 haneli bir yıl giriniz.  \")\n",
    "\n",
    "year = int(year)\n",
    "\n",
    "\n",
    "\n",
    "if (year % 400) == 0:\n",
    "\n",
    "    print(\"True\")\n",
    "\n",
    "elif (year % 100) == 0:\n",
    "\n",
    "    print(\"False\")\n",
    "\n",
    "elif (year % 4) == 0:\n",
    "\n",
    "    print(\"True\")\n",
    "\n",
    "else:\n",
    "\n",
    "    print(\"False\")"
   ]
  },
  {
   "cell_type": "code",
   "execution_count": null,
   "metadata": {},
   "outputs": [],
   "source": []
  }
 ],
 "metadata": {
  "kernelspec": {
   "display_name": "Python 3",
   "language": "python",
   "name": "python3"
  },
  "language_info": {
   "codemirror_mode": {
    "name": "ipython",
    "version": 3
   },
   "file_extension": ".py",
   "mimetype": "text/x-python",
   "name": "python",
   "nbconvert_exporter": "python",
   "pygments_lexer": "ipython3",
   "version": "3.7.6"
  }
 },
 "nbformat": 4,
 "nbformat_minor": 4
}

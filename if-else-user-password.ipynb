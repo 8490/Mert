{
 "cells": [
  {
   "cell_type": "code",
   "execution_count": 7,
   "metadata": {},
   "outputs": [
    {
     "name": "stdout",
     "output_type": "stream",
     "text": [
      "Hello user, please enter your first name: mert\n",
      "Hello, Mert! The password is : W@12\n"
     ]
    }
   ],
   "source": [
    "user = input(\"Hello user, please enter your first name: \")\n",
    "name = \"Mert\"\n",
    "\n",
    "if user.capitalize() == name:\n",
    "    print(\"Hello, \", name, \"! The password is : W@12\", sep=\"\")\n",
    "else:\n",
    "    print(\"Hello, \", user.capitalize(), \"! See you later.\", sep=\"\")"
   ]
  },
  {
   "cell_type": "code",
   "execution_count": null,
   "metadata": {},
   "outputs": [],
   "source": []
  }
 ],
 "metadata": {
  "kernelspec": {
   "display_name": "Python 3",
   "language": "python",
   "name": "python3"
  },
  "language_info": {
   "codemirror_mode": {
    "name": "ipython",
    "version": 3
   },
   "file_extension": ".py",
   "mimetype": "text/x-python",
   "name": "python",
   "nbconvert_exporter": "python",
   "pygments_lexer": "ipython3",
   "version": "3.7.6"
  }
 },
 "nbformat": 4,
 "nbformat_minor": 4
}

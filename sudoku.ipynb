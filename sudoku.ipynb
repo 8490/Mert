{
 "cells": [
  {
   "cell_type": "code",
   "execution_count": 32,
   "metadata": {},
   "outputs": [
    {
     "name": "stdout",
     "output_type": "stream",
     "text": [
      "- - - - - - - - - - -\n",
      "0 0 0 | 0 6 4 | 0 0 0 \n",
      "7 0 0 | 0 0 0 | 3 9 0 \n",
      "8 0 0 | 0 0 0 | 0 0 0 \n",
      "- - - - - - - - - - -\n",
      "0 0 0 | 5 0 2 | 0 6 0 \n",
      "0 8 0 | 4 0 0 | 0 0 0 \n",
      "3 5 0 | 6 0 0 | 0 7 0 \n",
      "- - - - - - - - - - -\n",
      "0 0 2 | 0 0 0 | 1 0 3 \n",
      "0 0 1 | 0 5 9 | 0 0 0 \n",
      "0 0 0 | 0 0 0 | 7 0 0 \n",
      "- - - - - - - - - - -\n"
     ]
    }
   ],
   "source": [
    "sudoku = [\n",
    "    [0, 0, 0, 0, 6, 4, 0, 0, 0],\n",
    "    [7, 0, 0, 0, 0, 0, 3, 9, 0],\n",
    "    [8, 0, 0, 0, 0, 0, 0, 0, 0],\n",
    "    [0, 0, 0, 5, 0, 2, 0, 6, 0],\n",
    "    [0, 8, 0, 4, 0, 0, 0, 0, 0],\n",
    "    [3, 5, 0, 6, 0, 0, 0, 7, 0],\n",
    "    [0, 0, 2, 0, 0, 0, 1, 0, 3],\n",
    "    [0, 0, 1, 0, 5, 9, 0, 0, 0],\n",
    "    [0, 0, 0, 0, 0, 0, 7, 0, 0]\n",
    "]\n",
    "a = 0\n",
    "b = 0\n",
    "\n",
    "print(\"- - - - - - - - - - -\")\n",
    "for i in sudoku:\n",
    "    a += 1\n",
    "    b = 0\n",
    "    for j in i:\n",
    "        b += 1\n",
    "        if b < 4:\n",
    "            print(j, end=\" \")\n",
    "            if b == 3:\n",
    "                print(\"|\", end=\" \")\n",
    "        elif b < 7:\n",
    "            print(j, end= \" \")\n",
    "            if b == 6:\n",
    "                print(\"|\", end=\" \")\n",
    "        else:\n",
    "            print(j, end=\" \")\n",
    "    print()\n",
    "    if a %3 == 0:\n",
    "        print(\"- - - - - - - - - - -\")        "
   ]
  },
  {
   "cell_type": "code",
   "execution_count": null,
   "metadata": {},
   "outputs": [],
   "source": []
  },
  {
   "cell_type": "code",
   "execution_count": null,
   "metadata": {},
   "outputs": [],
   "source": []
  },
  {
   "cell_type": "code",
   "execution_count": null,
   "metadata": {},
   "outputs": [],
   "source": []
  },
  {
   "cell_type": "code",
   "execution_count": null,
   "metadata": {},
   "outputs": [],
   "source": []
  },
  {
   "cell_type": "code",
   "execution_count": null,
   "metadata": {},
   "outputs": [],
   "source": []
  }
 ],
 "metadata": {
  "kernelspec": {
   "display_name": "Python 3",
   "language": "python",
   "name": "python3"
  },
  "language_info": {
   "codemirror_mode": {
    "name": "ipython",
    "version": 3
   },
   "file_extension": ".py",
   "mimetype": "text/x-python",
   "name": "python",
   "nbconvert_exporter": "python",
   "pygments_lexer": "ipython3",
   "version": "3.7.6"
  }
 },
 "nbformat": 4,
 "nbformat_minor": 4
}

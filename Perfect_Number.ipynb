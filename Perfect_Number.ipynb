{
 "cells": [
  {
   "cell_type": "code",
   "execution_count": null,
   "metadata": {},
   "outputs": [],
   "source": [
    "# A \"Perfect Number\" is a number in which the sum of its factors (excluding itself) are equal to itself.\n",
    "# Example\n",
    "# 28 has the following factors: 1, 2, 4, 7, 14\n",
    "# 1 + 2 + 4 + 7 + 14 = 28 therefore 28 is a perfect number!\n",
    "\n",
    "def perfect_verification(number):\n",
    "    dividers = [i for i in range(1,number) if number%i==0]\n",
    "    if sum(dividers) == number: return \"It's a perfect number\"\n",
    "    else: return \"It's not a perfect number\""
   ]
  }
 ],
 "metadata": {
  "kernelspec": {
   "display_name": "Python 3",
   "language": "python",
   "name": "python3"
  },
  "language_info": {
   "codemirror_mode": {
    "name": "ipython",
    "version": 3
   },
   "file_extension": ".py",
   "mimetype": "text/x-python",
   "name": "python",
   "nbconvert_exporter": "python",
   "pygments_lexer": "ipython3",
   "version": "3.7.6"
  }
 },
 "nbformat": 4,
 "nbformat_minor": 4
}

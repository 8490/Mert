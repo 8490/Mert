{
 "cells": [
  {
   "cell_type": "code",
   "execution_count": 18,
   "metadata": {},
   "outputs": [
    {
     "name": "stdout",
     "output_type": "stream",
     "text": [
      "Enter some words:  hippo runs to us!\n",
      "{'h': 1, 'i': 1, 'p': 2, 'o': 2, ' ': 3, 'r': 1, 'u': 2, 'n': 1, 's': 2, 't': 1, '!': 1}\n"
     ]
    }
   ],
   "source": [
    "sentence = input(\"Enter some words:  \").lower()\n",
    "\n",
    "letters = list(sentence)\n",
    "\n",
    "letter_dict = dict()\n",
    "letter_list= []\n",
    "counter = 0\n",
    "\n",
    "for i in letters:\n",
    "    if i not in letter_list:\n",
    "        counter = letters.count(i)\n",
    "        letter_list += [i]\n",
    "        letter_dict[i] = counter    \n",
    "\n",
    "print(letter_dict)"
   ]
  },
  {
   "cell_type": "code",
   "execution_count": null,
   "metadata": {},
   "outputs": [],
   "source": [
    "{'s': 2, 'r': 1, 't': 1, 'h': 1, 'n': 1, \n",
    "'i': 1, 'u': 2, 'o': 2, 'p': 2, ' ': 3, '!': 1}"
   ]
  }
 ],
 "metadata": {
  "kernelspec": {
   "display_name": "Python 3",
   "language": "python",
   "name": "python3"
  },
  "language_info": {
   "codemirror_mode": {
    "name": "ipython",
    "version": 3
   },
   "file_extension": ".py",
   "mimetype": "text/x-python",
   "name": "python",
   "nbconvert_exporter": "python",
   "pygments_lexer": "ipython3",
   "version": "3.7.6"
  }
 },
 "nbformat": 4,
 "nbformat_minor": 4
}
